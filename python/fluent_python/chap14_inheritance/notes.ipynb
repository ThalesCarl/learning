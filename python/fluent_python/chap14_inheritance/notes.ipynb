{
 "cells": [
  {
   "cell_type": "markdown",
   "metadata": {},
   "source": [
    "# The `super` builtin function\n",
    "\n",
    "The builtin function `super` is used when we want to call a method from a base class from the derived class. For example:\n",
    "\n",
    "```python\n",
    "class LastUpdatedOrderedDict(OrderedDict):\n",
    "    \"\"\"Stores items keeping the update order\"\"\"\n",
    "    \n",
    "\n",
    "    def __setitem__(self, key, value):\n",
    "        super().__setitem__(key, value)\n",
    "        self.move_to_end(key)\n",
    "\n",
    "# We could do the above like this\n",
    "class NotRecommended(OrderedDict):\n",
    "    \"\"\"A counter example\"\"\"\n",
    "\n",
    "    def __setitem__(self, key, value):\n",
    "        OrderedDict.__setitem__(self, key, value)\n",
    "        self.move_to_end(key)\n",
    "```\n",
    "\n",
    "The counterexample above works for this particular case, but it's not recommended because we need to repeat the base class name. Calling `super()` is used because it supports multiple inheritance.\n",
    "\n",
    "The most common use of the `super()` function is in constructors, where we use it to call the `__init__()` function from the base class in the derived class.\n",
    "\n",
    "```python\n",
    "class MyClass(BaseClass):\n",
    "    def __init__(self, a, b):\n",
    "        super().__init__(a, b) # instantiate base class attributes\n",
    "```\n",
    "\n",
    "The `super()` has two arguments that are inferred by the interpreter in most cases, but we might need to use them in special cases, such as, bypassing the method resolution order (MRO), for testes, and so on. The arguments are:\n",
    "\n",
    "- `type`: The name of the superclass, or the beginning of the path to the desired method\n",
    "- `object_or_type`: The object that will be called (for instance methods)  or the class (for class methods). By default, it is `self` when the call is from within a instance method.\n",
    "\n",
    "# Subclasses of builtin types (danger)\n",
    "\n",
    "Since python 2.2, we can have a subclass of a builtin type, like a `dict`, a `str` or a `list`. However, the CPython will not normally call the overloaded methods of the builtin types, as seen below. This could lead to various unknown behaviors. This is because the builtin types calls direct the C interface below instead of a class defined in python. The solution to this problem is to inherit from `UserDict`, `UserStr` and `UserList`, available at `collections` lib, instead of the builtin type."
   ]
  },
  {
   "cell_type": "code",
   "execution_count": 3,
   "metadata": {},
   "outputs": [
    {
     "data": {
      "text/plain": [
       "{'one': 1, 'two': [2, 2], 'three': 3}"
      ]
     },
     "execution_count": 3,
     "metadata": {},
     "output_type": "execute_result"
    }
   ],
   "source": [
    "class DoppelDict(dict):\n",
    "    def __setitem__(self, key, value):\n",
    "        super().__setitem__(key, [value] * 2)\n",
    "\n",
    "dd = DoppelDict(one=1)\n",
    "dd # {'one': 1}. The constructor ignores __setitem__ modification\n",
    "\n",
    "dd['two'] = 2\n",
    "dd # {'one': 1, 'two': [2, 2]}. here the modified __setitem__ is called\n",
    "\n",
    "dd.update(three=3) # Also ignores modified __setitem__\n",
    "dd # {'one': 1, 'two': [2, 2], 'three': 3}\n",
    "\n",
    "\n",
    "class AnswerDict(dict):\n",
    "    def __getitem__(self, key):\n",
    "        return 42\n",
    "    \n",
    "ad = AnswerDict(a='foo')\n",
    "ad['a'] # 42\n",
    "\n",
    "d = {}\n",
    "d.update(ad)\n",
    "\n",
    "d['a'] # 'foo' # Modified __getitem__ is ignored.\n",
    "d # {'a': 'foo'}"
   ]
  },
  {
   "cell_type": "markdown",
   "metadata": {},
   "source": [
    "# Multiple inheritance\n",
    "\n",
    "Python, like C++ and unlike Java, supports multiple inheritance, which means a class can be derived from two or more base classes. Multiple inheritance comes with a problem: naming conflicts that might occur when superclasses have methods with the same name. This is called the diamond problem. For example:"
   ]
  },
  {
   "cell_type": "code",
   "execution_count": 8,
   "metadata": {},
   "outputs": [
    {
     "name": "stdout",
     "output_type": "stream",
     "text": [
      "<instance of Leaf>.ping() in Leaf\n",
      "<instance of Leaf>.ping() in A\n",
      "<instance of Leaf>.ping() in B\n",
      "<instance of Leaf>.ping() in Root\n",
      "<instance of Leaf>.pong() in A\n",
      "<instance of Leaf>.pong() in B\n"
     ]
    },
    {
     "data": {
      "text/plain": [
       "(__main__.Leaf, __main__.A, __main__.B, __main__.Root, object)"
      ]
     },
     "execution_count": 8,
     "metadata": {},
     "output_type": "execute_result"
    }
   ],
   "source": [
    "class Root:\n",
    "    def ping(self):\n",
    "        print(f'{self}.ping() in Root')\n",
    "    def pong(self):\n",
    "        print(f'{self}.pong() in Root')\n",
    "    def __repr__(self):\n",
    "        cls_name = type(self).__name__\n",
    "        return f'<instance of {cls_name}>'\n",
    "\n",
    "class A(Root):\n",
    "    def ping(self):\n",
    "        print(f'{self}.ping() in A')\n",
    "        super().ping()\n",
    "    def pong(self):\n",
    "        print(f'{self}.pong() in A')\n",
    "        super().pong()\n",
    "\n",
    "class B(Root):\n",
    "    def ping(self):\n",
    "        print(f'{self}.ping() in B')\n",
    "        super().ping()\n",
    "    def pong(self):\n",
    "        print(f'{self}.pong() in B')\n",
    "\n",
    "class Leaf(A, B):\n",
    "    def ping(self):\n",
    "        print(f'{self}.ping() in Leaf')\n",
    "        super().ping()\n",
    "\n",
    "leaf1 = Leaf()\n",
    "leaf1.ping()\n",
    "# <instance of Leaf>.ping() in Leaf\n",
    "# <instance of Leaf>.ping() in A\n",
    "# <instance of Leaf>.ping() in B\n",
    "# <instance of Leaf>.ping() in Root\n",
    "\n",
    "leaf1.pong()\n",
    "# <instance of Leaf>.pong() in A\n",
    "# <instance of Leaf>.pong() in B\n",
    "\n",
    "\n",
    "\n",
    "Leaf.__mro__"
   ]
  },
  {
   "cell_type": "markdown",
   "metadata": {},
   "source": [
    "The Root.pong() is not called because B.pong() does not call super().\n",
    "\n",
    "Question: the book say that A.pong() calls B.pong() but that's\n",
    "not what it seems to be. It seems that Leaf.pong() calls B.pong().\n",
    "\n",
    "The book answer the question afterwards.\n",
    "\n",
    "The `Leaf.__mro__` shows the order that `super()` will obey when searching for the methods. It uses the C3 algorithm to determine it's order.\n",
    "\n",
    "The order of the classes in the class declaration matters. If we have done `class(B, A)` instead of `class(A, B)` then, the `B.pong()` would be called first in the second example. And because this method does not call `super()` then the chain of inheritance ends there.\n",
    "\n",
    "A method that calls `super()` is called a cooperative method. A non cooperative method in a derived class might be the source of bugs, because any user would expect that `leaf1.pong()` would call `Root.pong()` and that did not happen.\n",
    "\n",
    "Cooperative methods must have compatible signature, because we never know if `A.ping()` would be called before or after `B.ping()`. The sequence of the calls depends on the MRO. Another example:\n",
    "\n",
    "```python\n",
    "class U():\n",
    "    def ping(self):\n",
    "        print(f'{self}.ping() in U')\n",
    "        super().ping()\n",
    "\n",
    "class LeafUA(U, A):\n",
    "    def ping(self):\n",
    "        print(f'{self}.ping() in U')\n",
    "\n",
    "LeafUA.__mro__\n",
    "(LeafUA, U, A, Root, object)\n",
    "\n",
    "u = U()\n",
    "u.ping() # Unknown ping in super()\n",
    "\n",
    "leaf2 = LeafUA()\n",
    "leaf2.ping()\n",
    "# <instance of LeafUA>.ping() in LeafUA\n",
    "# <instance of LeafUA>.ping() in U\n",
    "# <instance of LeafUA>.ping() in A\n",
    "# <instance of LeafUA>.ping() in Root\n",
    "```\n",
    "\n",
    "If `class LeafAU(A, U)` would be used, then the call to `A.ping()` would call directly `Root.ping()`"
   ]
  }
 ],
 "metadata": {
  "kernelspec": {
   "display_name": "Python 3",
   "language": "python",
   "name": "python3"
  },
  "language_info": {
   "codemirror_mode": {
    "name": "ipython",
    "version": 3
   },
   "file_extension": ".py",
   "mimetype": "text/x-python",
   "name": "python",
   "nbconvert_exporter": "python",
   "pygments_lexer": "ipython3",
   "version": "3.11.8"
  }
 },
 "nbformat": 4,
 "nbformat_minor": 2
}
