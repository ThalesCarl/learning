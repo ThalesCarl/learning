{
 "cells": [
  {
   "cell_type": "code",
   "execution_count": null,
   "metadata": {},
   "outputs": [],
   "source": []
  },
  {
   "cell_type": "markdown",
   "metadata": {},
   "source": [
    "# Object representation\n",
    "\n",
    "Python has two ways of representing any object as a string:\n",
    "\n",
    "- `repr()`: Output a string representing an object as the developer may wanna see it. That's what is shown when the debugger or the console prints it. Controlled by the `__repr__()` dunder method\n",
    "- `str()`: Output a  string as the user may wanna see it. That's what is shown when you call `print()` on the object. Controlled by the `__str__()` method.\n",
    "\n",
    "There's two more methods: `__bytes__` and `__format__`. The first is how you represent your object as a sequence of bytes and the second is used by the f-strings, the builtin `format()` and the `str.format()` method. All of them call `obj.format(format_spec)`.\n"
   ]
  },
  {
   "cell_type": "code",
   "execution_count": 9,
   "metadata": {},
   "outputs": [
    {
     "ename": "ModuleNotFoundError",
     "evalue": "No module named 'jdc'",
     "output_type": "error",
     "traceback": [
      "\u001b[1;31m---------------------------------------------------------------------------\u001b[0m",
      "\u001b[1;31mModuleNotFoundError\u001b[0m                       Traceback (most recent call last)",
      "Cell \u001b[1;32mIn[9], line 2\u001b[0m\n\u001b[0;32m      1\u001b[0m \u001b[38;5;66;03m# Vector2d object is used here to demonstrate a pythonic object\u001b[39;00m\n\u001b[1;32m----> 2\u001b[0m \u001b[38;5;28;01mimport\u001b[39;00m \u001b[38;5;21;01mjdc\u001b[39;00m\n\u001b[0;32m      3\u001b[0m \u001b[38;5;28;01mfrom\u001b[39;00m \u001b[38;5;21;01marray\u001b[39;00m \u001b[38;5;28;01mimport\u001b[39;00m array\n\u001b[0;32m      4\u001b[0m \u001b[38;5;28;01mimport\u001b[39;00m \u001b[38;5;21;01mmath\u001b[39;00m\n",
      "\u001b[1;31mModuleNotFoundError\u001b[0m: No module named 'jdc'"
     ]
    }
   ],
   "source": [
    "# Vector2d object is used here to demonstrate a pythonic object\n",
    "import jdc\n",
    "from array import array\n",
    "import math\n",
    "\n",
    "class Vector2d:\n",
    "    typecode = 'd'\n",
    "\n",
    "    def __init__(self, x, y) -> None:\n",
    "        self.x = float(x)\n",
    "        self.x = float(x)\n",
    "    \n",
    "    def __iter__(self): # Makes the object iterable, and makes the unpacking works\n",
    "        return (i for i in (self.x, self.y))\n",
    "    \n",
    "    def __repr__(self) -> str:\n",
    "        class_name = type(self).__name__\n",
    "        return '{}({!r}, {!r})'.format(class_name, *self) # The *self only works because the object is iterable\n",
    "    \n",
    "    def __str__(self) -> str:\n",
    "        return str(tuple(self))\n",
    "    \n",
    "    def __bytes__(self):\n",
    "        return (bytes([ord(self.typecode)]) +\n",
    "                bytes(array(self.typecode, self)))\n",
    "\n",
    "    def __eq__(self, other: object) -> bool:\n",
    "        return tuple(self) == tuple(other) # Works if other is Vector2d but also works for other iterables. This could lead to a bug\n",
    "\n",
    "    def __abs__(self):\n",
    "        return math.hypot(self.x, self.y)\n",
    "\n",
    "    def __bool__(self):\n",
    "        return bool(abs(self))\n",
    "\n",
    "    # Since we introduced a way to export a Vector2d to bytes object. We might wanna create a new object from a bytes object\n",
    "    @classmethod # Modify a method, making it available to be called directly in a class\n",
    "    def frombytes(cls, octets):\n",
    "        typecode = chr(octets[0])\n",
    "        memv = memoryview(octets[1:]).cast(typecode)\n",
    "        return cls(*memv) # Question: this is the same as Vector2d(memv.x, memv.y)?\n"
   ]
  },
  {
   "cell_type": "markdown",
   "metadata": {},
   "source": [
    "## `@classmethod` versus `@staticmethod`\n",
    "\n",
    "Those two decorators are python specific concepts.\n",
    "\n",
    "The first allows us to define a method that acts on a class and not on an instance. The `@classmethod` changes the way a method is called. The first argument will be the class itself, instead of a instance. It's most common use is for alternative constructors, like seen above.\n",
    "\n",
    "The second decorator `@staticmethod` changes the method to not receive any special first argument, like `self`. Essentially, a static method is just a simple function that lives in the class scope\n",
    "\n",
    "```python\n",
    "class Demo:\n",
    "    @classmethod\n",
    "    def klassmeth(*args):\n",
    "        return args\n",
    "    \n",
    "    @staticmethod\n",
    "    def statmeth(*args):\n",
    "        return args\n",
    "\n",
    "Demo.klassmeth() # (<class '__main__.Demo'>,) : The class itself is the first argumnt\n",
    "\n",
    "Demo.klassmeth('spam') # (<class '__main__.Demo'>, 'spam')\n",
    "Demo.statmeth() # () : empty because it's static\n",
    "Demo.statmeth('spam') # ('spam')\n",
    "```\n",
    "\n",
    "The `staticmethod` decorator is not that useful as the `classmethod`."
   ]
  },
  {
   "cell_type": "markdown",
   "metadata": {},
   "source": [
    "# Formatted output\n",
    "\n",
    "The f-strings, the builtin function `format` and the `str.format()` call the `.__format__(format_spec)` of the object.\n",
    "\n",
    "```python\n",
    "brl = 1 /4.82\n",
    "brl # 0.20746887966804978\n",
    "format(brl, '0.4f') # '0.2075'\n",
    "'1 BRL = {rate:0.2f} USD'.format(rate=brl) # '1 BRL = 0.21 USD'\n",
    "f'1 USD = {1 / brl:0.2f} BRL' # 1 USD = 4.82 BRL'\n",
    "```\n",
    "\n",
    "Hints: `int` supports `b`and `x` to see them as binary or hexadecimal, `float` supports `f` and `%` to see them as a floating point or an percentage.\n",
    "\n",
    "Other objects can tweak how the `format_spec` is interpreted. For example:\n"
   ]
  },
  {
   "cell_type": "code",
   "execution_count": 3,
   "metadata": {},
   "outputs": [
    {
     "data": {
      "text/plain": [
       "\"It's now 10:32 PM\""
      ]
     },
     "execution_count": 3,
     "metadata": {},
     "output_type": "execute_result"
    }
   ],
   "source": [
    "from datetime import datetime\n",
    "now = datetime.now()\n",
    "format(now, '%H:%M:%S')\n",
    "\n",
    "\"It's now {:%I:%M %p}\".format(now)"
   ]
  },
  {
   "cell_type": "markdown",
   "metadata": {},
   "source": [
    "If the class doesn't implement `__format__`, then the `str(my_object)` is called. But if a `format_spec` is passed to the function, then a Error will be thrown.\n",
    "\n",
    "Let's implement our `__format__` for the `Vector2d` class. We will assume that the `format_spec` will format the floats that compose our object."
   ]
  },
  {
   "cell_type": "code",
   "execution_count": null,
   "metadata": {},
   "outputs": [],
   "source": [
    "# inside the Vector2d class\n",
    "\n",
    "def __format__(self, fmt_spec=''):\n",
    "    components = (format(c, fmt_spec) for c in self)\n",
    "    return '({}, {})'.format(*components)\n",
    "\n",
    "# See the book on more __format__ options"
   ]
  },
  {
   "cell_type": "markdown",
   "metadata": {},
   "source": [
    "# Hashable Vector2d\n",
    "\n",
    "In order to make `vector2d` hashable, which will allow it to be used in a `dict` keys or be placed in a `set`, we need to implement `__hash__()` and `__eq__()` (already implemented). Furthermore, we need to make immutable the instances of the vector, i. e., preventing someone from doing `v1.x = 7`."
   ]
  },
  {
   "cell_type": "code",
   "execution_count": null,
   "metadata": {},
   "outputs": [],
   "source": [
    "class Vector2d:\n",
    "    typecode = 'd'\n",
    "\n",
    "    def __init__(self, x, y) -> None:\n",
    "        self.__x = float(x) # __x indicates x is private\n",
    "        self.__y = float(y)\n",
    "\n",
    "    @property\n",
    "    def x(self):\n",
    "        return self.__x\n",
    "\n",
    "    @property\n",
    "    def y(self):\n",
    "        return self.__y\n",
    "\n",
    "    def __iter__(self):\n",
    "        return (i for i in (self.x, self.y))\n",
    "\n",
    "    # Other methods omitted because they use self.x and self.y, that is already supported by the @property definition\n",
    "\n",
    "    # Hash method\n",
    "    def __hash__(self): # We choose to hash the tuple that composes the vector2d representation\n",
    "        return hash((self.x, self.y))"
   ]
  },
  {
   "cell_type": "markdown",
   "metadata": {},
   "source": [
    "# Positional pattern matching\n",
    "\n",
    "In order to support positional pattern matching of an object, we need to implement the `__match_args__` class variable, in which, we will list the attributes of instance that will be used in the order that they will be used"
   ]
  },
  {
   "cell_type": "code",
   "execution_count": null,
   "metadata": {},
   "outputs": [],
   "source": [
    "# Currently Vector2d supports:\n",
    "def keyword_pattern_demo(v: Vector2d) -> None:\n",
    "    match v:\n",
    "        case Vector2d(x=0, y=0):\n",
    "            print(f'{v!r} is null')\n",
    "        case Vector2d(x=0):\n",
    "            print(f'{v!r} is vertical')\n",
    "        case Vector2d(y=0):\n",
    "            print(f'{v!r} is horizontal')\n",
    "        case Vector2d(x=x, y=y) if x==y:\n",
    "            print(f'{v!r} is diagonal')\n",
    "        case _:\n",
    "            print(f'{v!r} is awesome')\n",
    "        # But if we try to do:\n",
    "        case Vector2d(_, 0):\n",
    "            print(f'{v!r} is horizontal')\n",
    "\n",
    "# inside class Vector2d:\n",
    "    __match_args__ = ('x', 'y')"
   ]
  },
  {
   "cell_type": "markdown",
   "metadata": {},
   "source": [
    "# Private (kind of) and protected attributes\n",
    "\n",
    "In python, we cannot create a `private` member of a class like in other programming languages such as `C++` or `Java`.\n",
    "\n",
    "When we do `self.__x` for the class `Vector2d`, the interpreter will store the variable as `_Vector2d__x` inside the instance `__dict__` in order to prevent clashes with any class that inherits from `Vector2d`. This is called name mangling. However, several people are against this idea, because it can lead to unwanted behavior. \n",
    "\n",
    "Another way to \"protect\" a variable is the convention of a single `_` before a variable name to indicate this variable is not supposed to be edited.\n",
    "\n"
   ]
  },
  {
   "cell_type": "markdown",
   "metadata": {},
   "source": [
    "# Memory saving using `__slots__`\n",
    "\n",
    "By default, a python object is stored as a dict, that consumes a big amount of memory. We can improve this by defining a class attribute called `__slots__` that will indicate which field can be stored in a array of hidden references."
   ]
  },
  {
   "cell_type": "code",
   "execution_count": 14,
   "metadata": {},
   "outputs": [
    {
     "ename": "AttributeError",
     "evalue": "'Pixel' object has no attribute 'color'",
     "output_type": "error",
     "traceback": [
      "\u001b[1;31m---------------------------------------------------------------------------\u001b[0m",
      "\u001b[1;31mAttributeError\u001b[0m                            Traceback (most recent call last)",
      "Cell \u001b[1;32mIn[14], line 7\u001b[0m\n\u001b[0;32m      5\u001b[0m \u001b[38;5;66;03m#p.__dict__ # Error: no __dict__\u001b[39;00m\n\u001b[0;32m      6\u001b[0m p\u001b[38;5;241m.\u001b[39mx \u001b[38;5;241m=\u001b[39m \u001b[38;5;241m10\u001b[39m \u001b[38;5;66;03m# Ok\u001b[39;00m\n\u001b[1;32m----> 7\u001b[0m \u001b[43mp\u001b[49m\u001b[38;5;241;43m.\u001b[39;49m\u001b[43mcolor\u001b[49m \u001b[38;5;241m=\u001b[39m \u001b[38;5;124m'\u001b[39m\u001b[38;5;124mred\u001b[39m\u001b[38;5;124m'\u001b[39m \u001b[38;5;66;03m# Not ok, because color is not defined in the __slots__. If this was a normal class, the definition of a new attribute to p would be ok\u001b[39;00m\n\u001b[0;32m      9\u001b[0m \u001b[38;5;28;01mclass\u001b[39;00m \u001b[38;5;21;01mOpenPixel\u001b[39;00m(Pixel):\n\u001b[0;32m     10\u001b[0m     \u001b[38;5;28;01mpass\u001b[39;00m\n",
      "\u001b[1;31mAttributeError\u001b[0m: 'Pixel' object has no attribute 'color'"
     ]
    }
   ],
   "source": [
    "class Pixel:\n",
    "    __slots__ = ('x', 'y')\n",
    "\n",
    "p = Pixel()\n",
    "p.__dict__ # Error: no __dict__\n",
    "p.x = 10 # Ok\n",
    "p.color = 'red' # Not ok, because color is not defined in the __slots__. If this was a normal class, the definition of a new attribute to p would be ok\n",
    "\n",
    "class OpenPixel(Pixel):\n",
    "    pass\n",
    "\n",
    "op = OpenPixel()\n",
    "op.__dict__ # {} : Surprise, OpenPixel has a __dict__\n",
    "op.x = 8\n",
    "op.__dict__ # {} : But the op.x is not available in this __dict__\n",
    "op.color = 'red'\n",
    "op.__dict__ # {'color': 'red'} : new variables are inserted in the __dict__\n",
    "\n",
    "# If in OpenPixel we did __slots__ = () empty tuple, a __dict__ is not created for op. \n",
    "# If in OpenPixel we did __slots__ = ('z') then a new variable would be placed in the hidden reference array"
   ]
  },
  {
   "cell_type": "markdown",
   "metadata": {},
   "source": [
    "# Overloading class attributes\n",
    "\n",
    "A class attribute is a variable that is used by all instances of a class. However, if your functions use it as `self.my_attr`, you can create a instance of your object and then modify the class attribute. This will make the object more personalized. For instance, `typecode` is a class attribute of `Vector2d` that can be modified from `d` to `f` before calling `__bytes__`.\n",
    "\n",
    "```python\n",
    "from vector2d import Vector2d\n",
    "\n",
    "v1 = Vector2d(1.1, 2.2)\n",
    "dumpd = bytes(v1) # b'd\\x9a\\x99\\x99\\x99\\x99\\x99\\xf1?\\x9a\\x99\\x99\\x99\\x99\\x99\\x01@'\n",
    "len(dumpd) # 17\n",
    "\n",
    "v1.typecode = 'f'\n",
    "dumpf = bytes(v1) # b'f\\xcd\\xcc\\x8c?\\xcd\\xcc\\x0c@'\n",
    "len(dumpf) # 9\n",
    "\n",
    "Vector2d.typecode # 'd', notice the class method was not modified\n",
    "```\n",
    "\n",
    "We could do `Vector.typecode = 'f'` to modify it for any other Vector2d created, but this is not idiomatic. Most of the time, we modify the class attribute by creating a subclass. For instance:\n",
    "\n",
    "```python\n",
    "class ShortVector2d(Vector2d):\n",
    "    typecode = 'f'\n",
    "```"
   ]
  }
 ],
 "metadata": {
  "kernelspec": {
   "display_name": "Python 3",
   "language": "python",
   "name": "python3"
  },
  "language_info": {
   "codemirror_mode": {
    "name": "ipython",
    "version": 3
   },
   "file_extension": ".py",
   "mimetype": "text/x-python",
   "name": "python",
   "nbconvert_exporter": "python",
   "pygments_lexer": "ipython3",
   "version": "3.11.8"
  }
 },
 "nbformat": 4,
 "nbformat_minor": 2
}
