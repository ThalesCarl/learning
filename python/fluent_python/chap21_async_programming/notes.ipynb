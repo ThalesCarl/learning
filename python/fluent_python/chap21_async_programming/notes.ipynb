{
 "cells": [
  {
   "cell_type": "markdown",
   "metadata": {},
   "source": [
    "# Some definitions\n",
    "\n",
    "## Native coroutine\n",
    "\n",
    "A function defined with `async def`. You can delegate a native coroutine to another using the `await` keyword. Even if there's no `await` keyword in a function, it is still a native coroutine if it has a `async def`. The `await` keyword cannot be used outside a native coroutine.\n",
    "\n",
    "## Classic coroutine\n",
    "\n",
    "A generator function that consumes data through calls on the `.send()` function and read that data using the `yield` keyword. They delegate to another classic coroutine using the `yield from` expression. Cannot be controlled by `await` and are not supported by `asyncio` anymore\n",
    "\n",
    "## Generator based coroutines\n",
    "\n",
    "A generator function decorated by `@types.coroutine`. Introduced in Python 3.5, this decorator makes a generator function into a coroutine that can be used with the `await` keyword. It has been discontinued in Python 3.11\n",
    "\n",
    "## Async generator\n",
    "\n",
    "A generator function defined with `async def` that has a `yield` on its body. It returns a generator object that offers a `__anext__()`, which is coroutine method to get the next item."
   ]
  },
  {
   "cell_type": "code",
   "execution_count": 8,
   "metadata": {},
   "outputs": [
    {
     "name": "stdout",
     "output_type": "stream",
     "text": [
      "+ def.dev\n",
      "+ and.dev\n",
      "  is.dev\n",
      "+ del.dev\n",
      "+ not.dev\n",
      "  elif.dev\n",
      "+ try.dev\n",
      "  with.dev\n",
      "+ as.dev\n",
      "  else.dev\n",
      "  for.dev\n",
      "  true.dev\n",
      "+ in.dev\n",
      "  _.dev\n",
      "  if.dev\n",
      "  pass.dev\n",
      "  none.dev\n",
      "  case.dev\n",
      "+ from.dev\n",
      "  or.dev\n"
     ]
    }
   ],
   "source": [
    "# Example: domain search using asyncio\n",
    "\n",
    "# Search for domains with a Python keyword + the `.dev` suffix\n",
    "\n",
    "import asyncio\n",
    "import socket\n",
    "from keyword import kwlist, softkwlist\n",
    "\n",
    "MAX_KEYWORD_LEN = 4\n",
    "KEYWORDS = sorted(kwlist + softkwlist)\n",
    "\n",
    "async def probe(domain: str) -> tuple[str, bool]:\n",
    "    loop = asyncio.get_running_loop()\n",
    "    try:\n",
    "        await loop.getaddrinfo(domain, None)\n",
    "    except socket.gaierror:\n",
    "        return (domain, False)\n",
    "    return (domain, True)\n",
    "\n",
    "async def main() -> None:\n",
    "    names = (kw for kw in KEYWORDS if len(kw) <= MAX_KEYWORD_LEN)\n",
    "    domains = (f'{name}.dev'.lower() for name in names)\n",
    "    coros = [probe(domain) for domain in domains]\n",
    "    for coro in asyncio.as_completed(coros):\n",
    "        domain, found = await coro\n",
    "        mark = '+' if found else ' '\n",
    "        print(f'{mark} {domain}')\n",
    "\n",
    "await main()"
   ]
  },
  {
   "cell_type": "markdown",
   "metadata": {},
   "source": [
    "# Awaitable\n",
    "\n",
    "The same way a `for` loop works with a iterable, the `await` call will work with a awaitable. Usually we will see the following awaitables:\n",
    "\n",
    "- A native coroutine object: which is a function defined with `async def`\n",
    "- A `asyncio.Task` , which we can get by passing a coroutine object to the `asyncio.create_task()` function.\n",
    "\n",
    "However, not always we need to `await` for a `Task`. We can create it using the `asyncio.create_task()` and it will be scheduled to run.\n",
    "\n",
    "Warning: always create a variable to hold the `Task` reference, because it might be deleted by the garbage collector otherwise, because the event loop use weak references to manage the tasks.\n",
    "\n",
    "On the other, if we want to execute a function and wait until it's finished, we can use `await other_coro()`. (Question: where?)\n",
    "\n",
    "Low level awaitables:\n",
    "- A object that implements `__await__` and that returns a iterable. Example: `asyncio.Future`\n",
    "- A object that was written in another language using the API Python/C\n",
    "- A generator function that uses the `types.coroutine` (discontinued)\n",
    "\n"
   ]
  },
  {
   "cell_type": "code",
   "execution_count": 11,
   "metadata": {},
   "outputs": [
    {
     "name": "stdout",
     "output_type": "stream",
     "text": [
      "MX IN RU IR DE VN US ET JP TR NG FR BR EG ID PK PH CN BD CD "
     ]
    }
   ],
   "source": [
    "# Downloading flags with asyncio (same example of chapter 20)\n",
    "\n",
    "# For now, without error handling (just the happy path)\n",
    "\n",
    "from httpx import AsyncClient\n",
    "POP20_CC = ('CN IN US ID BR PK NG BD RU JP '\n",
    "            'MX PH VN ET EG DE IR TR CD FR').split()\n",
    "\n",
    "BASE_URL = 'https://www.fluentpython.com/data/flags'\n",
    "async def download_one(client: AsyncClient, cc: str):\n",
    "    image = await get_flag(client, cc)\n",
    "    # save_flag(image, f'{cc}.gif')\n",
    "    print(cc, end=' ', flush=True)\n",
    "    return cc\n",
    "\n",
    "async def get_flag(client: AsyncClient, cc: str) -> bytes:\n",
    "    url = f'{BASE_URL}/{cc}/{cc}.gif'.lower()\n",
    "    resp = await client.get(url, timeout=6.1, follow_redirects=True)\n",
    "    return resp.read()\n",
    "\n",
    "\n",
    "async def download_many(cc_list: list[str]) -> int:\n",
    "    # return asyncio.run(supervisor(cc_list))\n",
    "    # The code above doesnt work inside the ipynb, so I've changed to\n",
    "    # the code below and redefined the download many and main to\n",
    "    # native coroutines as well\n",
    "    return await supervisor(cc_list)\n",
    "\n",
    "async def supervisor(cc_list: list[str]) -> int:\n",
    "    async with AsyncClient() as client:\n",
    "        to_do = [download_one(client, cc) for cc in sorted(cc_list)]\n",
    "        res = await asyncio.gather(*to_do)\n",
    "\n",
    "    return len(res)\n",
    "\n",
    "from typing import Callable\n",
    "async def main(downloader: Callable[[list[str]], int]) -> None:  # <13>\n",
    "    await downloader(POP20_CC)\n",
    "\n",
    "await main(download_many)"
   ]
  }
 ],
 "metadata": {
  "kernelspec": {
   "display_name": "Python 3",
   "language": "python",
   "name": "python3"
  },
  "language_info": {
   "codemirror_mode": {
    "name": "ipython",
    "version": 3
   },
   "file_extension": ".py",
   "mimetype": "text/x-python",
   "name": "python",
   "nbconvert_exporter": "python",
   "pygments_lexer": "ipython3",
   "version": "3.11.9"
  }
 },
 "nbformat": 4,
 "nbformat_minor": 2
}
