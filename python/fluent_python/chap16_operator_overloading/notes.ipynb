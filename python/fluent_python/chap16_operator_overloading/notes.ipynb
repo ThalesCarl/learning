{
 "cells": [
  {
   "cell_type": "markdown",
   "metadata": {},
   "source": [
    "# Introduction to operator overloading\n",
    "\n",
    "Infix operators are the ones that are placed between two operands. \n",
    "Unary operator are the operators that receives only a input.\n",
    "Parenthesis `()`, slicing `[]` and the dot `.` are also operators but will not be discussed here.\n",
    "\n",
    "Things that cannot be done with operators in python:\n",
    "- Change the meaning of operators to builtin types\n",
    "- Create new operators, only overload existing ones\n",
    "- Overload the following: `is`, `or`, `and`, `not`. Question: they are operators? They seem more like keywords. However, we can overload the binary operators `&`, `|` and `~`\n",
    "\n",
    "General rule: always return a new object and do not modify the operands."
   ]
  },
  {
   "cell_type": "markdown",
   "metadata": {},
   "source": [
    "# Unary operators\n",
    "\n",
    "The three main unary operators are:\n",
    "- `-`, implemented by `__neg__`. If `x` is `2`, then `-x == 2`\n",
    "- `+`, implemented by `__pos__`. In general `x == +x`, but when you want to modify this behavior, use this\n",
    "- `+`, implemented by `__invert__`. Binary negation of a integer defined as `~x == -(x+1)`. If `x` is `2`, then `~x == -3`.\n",
    "\n",
    "The `abs()` function could be considered a unary operator as well, and is implemented using `__abs__` dunder method.\n",
    "\n",
    "We can implement those methods in `Vector` class:\n",
    "\n",
    "```python\n",
    "class Vector:\n",
    "    # A lot of other defs\n",
    "\n",
    "    def __abs__(self):\n",
    "        return math.hypot(*self)\n",
    "    \n",
    "    def __neg__(self):\n",
    "        return Vector(-x ofr x in self)\n",
    "\n",
    "    def __pos__(self):\n",
    "        Vector(self)\n",
    "```\n"
   ]
  },
  {
   "cell_type": "markdown",
   "metadata": {},
   "source": [
    "# Infix operators\n",
    "\n",
    "Let's see the implementation of `+` and `*` operators for the Vector class\n",
    "\n",
    "## Addition operator\n",
    "\n",
    "We want it to sum the vectors component wise. If a vector is smaller than other, it should be filled with zeros and then summed against the bigger vector\n",
    "```python\n",
    "import itertools\n",
    "class Vector:\n",
    "    # other definitions\n",
    "\n",
    "    def __add__(self, other):\n",
    "        pairs = itertools.zip_longest(self, other, fillvalue=0.0)\n",
    "        return Vector(a + b, for a, b in pairs) # every pair is a tuple\n",
    "\n",
    "v1 = Vector([3, 4, 5])\n",
    "v1 + (10, 20, 30) # Vector([13.0, 24.0, 35.0])\n",
    "\n",
    "v2d = Vector2d(1, 2)\n",
    "v1 + v2d # Vector([4.0, 6.0, 5.0])\n",
    "```\n",
    "\n",
    "Because of duck typing, we can even sum a `Vector` and a `Vector2d` or a tuple, because `zip_longest` accepts any iterable. However, with the above version, it only provides this functionality for the right operand. If the order was switched for the examples above, we would receive a error. To fix this we just need to implement `__radd__` dunder method in the `Vector` class. See in the book the reasoning why it exists this function\n",
    "\n",
    "```python\n",
    "def __radd__(self, other):\n",
    "    return self + other # delegates to `__add__`, because the addition is cumolativy in this case.\n",
    "\n",
    "# When __radd__ just delegates to __add__ we can do\n",
    "__radd__ = __add__\n",
    "```\n",
    "\n",
    "There still some problems with our implementation: if we pass a non-iterable object or a iterable that is composed of elements that cannot be summed to a `float`, we get obscure messages and wrong Error types. To fix this, only change the implementation to:\n",
    "\n",
    "```python\n",
    "    def __add__(self, other):\n",
    "        try:\n",
    "            pairs = itertools.zip_longest(self, other, fillvalue=0.0)\n",
    "            return Vector(a + b, for a, b in pairs) # every pair is a tuple\n",
    "        except TypeError:\n",
    "            return NotImplemented\n",
    "```"
   ]
  },
  {
   "cell_type": "code",
   "execution_count": null,
   "metadata": {},
   "outputs": [],
   "source": []
  }
 ],
 "metadata": {
  "language_info": {
   "name": "python"
  }
 },
 "nbformat": 4,
 "nbformat_minor": 2
}
