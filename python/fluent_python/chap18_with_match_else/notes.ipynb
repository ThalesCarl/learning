{
 "cells": [
  {
   "cell_type": "markdown",
   "metadata": {},
   "source": [
    "# Context managers and the `with` keyword\n",
    "\n",
    "A context manager exist to control a `with` instruction in the same manner iterators exist to control a `for` instruction\n",
    "\n",
    "The `with` was designed to simplify common case of use of `try/finally`. Some use cases:\n",
    "- transactions to databases\n",
    "- manipulate locks, conditions and semaphores\n",
    "- personalized environments to use the `Decimal` type\n",
    "- patch objects for tests\n",
    "\n",
    "The interface to a context manager consists of the methods `__enter__` and `__exit__`. The `__enter__` function will be called with no arguments but `self`. The `__exit__` function will receive three arguments:\n",
    "- exc_type: the exception that might happen inside the with block\n",
    "- exc_value: the exception instance\n",
    "- traceback: a traceback object"
   ]
  },
  {
   "cell_type": "code",
   "execution_count": 4,
   "metadata": {},
   "outputs": [
    {
     "data": {
      "text/plain": [
       "<_io.TextIOWrapper name='test.txt' mode='r' encoding='cp1252'>"
      ]
     },
     "execution_count": 4,
     "metadata": {},
     "output_type": "execute_result"
    }
   ],
   "source": [
    "with open('test.txt') as fp:\n",
    "    src = fp.read(60)\n",
    "\n",
    "len(src) # 60\n",
    "fp # <_io.TextIOWrapper name='test.txt' mode='r' encoding='cp1252'>\n",
    "fp.closed() # True\n",
    "fp.read(60) # Error: file closed"
   ]
  },
  {
   "cell_type": "code",
   "execution_count": 22,
   "metadata": {},
   "outputs": [
    {
     "name": "stdout",
     "output_type": "stream",
     "text": [
      "tseT\n",
      "YKCOWREBBAJ\n",
      "JABBERWOCKY\n",
      "eurT\n"
     ]
    }
   ],
   "source": [
    "import sys\n",
    "\n",
    "class LookingGlass:\n",
    "    def __enter__(self):\n",
    "        self.original_write = sys.stdout.write\n",
    "        sys.stdout.write = self.reverse_write\n",
    "        return 'JABBERWOCKY'\n",
    "    \n",
    "    def reverse_write(self, text):\n",
    "        self.original_write(text[::-1])\n",
    "\n",
    "    def __exit__(self, exc_type, exc_value, traceback):\n",
    "        sys.stdout.write = self.original_write\n",
    "        if exc_type is ZeroDivisionError:\n",
    "            print('Zero Division')\n",
    "            return True # Inform that the exception was treated\n",
    "    \n",
    "with LookingGlass() as what:\n",
    "    print(\"Test\") # tseT\n",
    "    print(what) # YKCOWREBBAJ , which is inversed\n",
    "\n",
    "print(what) # JABBERWOCKY\n",
    "\n",
    "manager = LookingGlass()\n",
    "monster = manager.__enter__()\n",
    "print(monster == 'JABBERWOCKY') # eurT\n",
    "monster # YKCOWREBBAJ'\n",
    "manager.__exit__(None, None, None)\n",
    "\n"
   ]
  },
  {
   "cell_type": "markdown",
   "metadata": {},
   "source": [
    "# Context managers on the `contextlib`\n",
    "\n",
    "The standard lib has some useful context managers available out of the box. Take a look at the book to see them\n",
    "\n",
    "The most useful of them is the `@contextmanager` decorator that we can use to replace the implementation of the `__enter__/__exit__` functions. We can just use the decorator with the `yield` expression to what the `__enter__()` function would return.\n",
    "\n",
    "For this decorator, the `yield` split the body of the function in two: everything before the `yield` will be executed in the beginning of the `with` block and everything after the `yield` will be executed when the `with` block ends\n",
    "\n",
    "The example below replaces the `LookingGlass` class shown in the previous example\n",
    "\n",
    "```python\n",
    "from contextlib import contexmanager\n",
    "import sys\n",
    "\n",
    "@contextmanager\n",
    "def looking_glass():\n",
    "    original_write = sys.stdout.write\n",
    "\n",
    "    def reverse_write(text):\n",
    "        original_write(text[::-1])\n",
    "\n",
    "    sys.stdout.write = reverse_write\n",
    "    yield 'JABBERWOCKY'\n",
    "    sys.stdout.write = original_write\n",
    "```\n",
    "\n",
    "Notice that the above implementation doesn't treat any possible exception that might occur in the `with` block. To fix that we need:\n",
    "\n",
    "```python\n",
    "from contextlib import contexmanager\n",
    "import sys\n",
    "\n",
    "@contextmanager\n",
    "def looking_glass():\n",
    "    original_write = sys.stdout.write\n",
    "\n",
    "    def reverse_write(text):\n",
    "        original_write(text[::-1])\n",
    "\n",
    "    sys.stdout.write = reverse_write\n",
    "    msg = ''\n",
    "    try:\n",
    "        yield 'JABBERWOCKY'\n",
    "    except ZeroDivisionError:\n",
    "        msg = \"Zero division\"\n",
    "    finally:\n",
    "        sys.stdout.write = original_write\n",
    "        if msg:\n",
    "            print(msg)\n",
    "    sys.stdout.write = original_write\n",
    "```"
   ]
  },
  {
   "cell_type": "markdown",
   "metadata": {},
   "source": [
    "# Pattern matching for the `lis.py` example\n",
    "\n",
    "The `lis.py` example is extensive parser of LIS code to python. I will not enter in details on this notes. Take a look at the book for it."
   ]
  },
  {
   "cell_type": "markdown",
   "metadata": {},
   "source": [
    "# The `else` block\n",
    "\n",
    "The python `else` keyword can be used with other blocks besides `if`, such as:\n",
    "- `for`: the `else` block will be executed only if the `for` loop runs until the end, i. e., if the block is not stopped by the `break`, `continue` or `return` keyword\n",
    "- `while`: the `else` block will only be executed when the expression for the `while` block becomes false. Again it will not execute if the block is stopped by the `break`, `continue` or `return` keyword.\n",
    "- `try`: the `else` block will only be executed if none exceptions are thrown inside the `try` block. Beware: exceptions generated in the `else` block will not be treated by the preceding `except` block.\n",
    "\n",
    "The difference for `else` and `finally` after a `try` block is that, the `finally` block will always be executed, even if inside the `try` block there is a `return` call.\n",
    "\n"
   ]
  }
 ],
 "metadata": {
  "kernelspec": {
   "display_name": "Python 3",
   "language": "python",
   "name": "python3"
  },
  "language_info": {
   "codemirror_mode": {
    "name": "ipython",
    "version": 3
   },
   "file_extension": ".py",
   "mimetype": "text/x-python",
   "name": "python",
   "nbconvert_exporter": "python",
   "pygments_lexer": "ipython3",
   "version": "3.11.8"
  }
 },
 "nbformat": 4,
 "nbformat_minor": 2
}
