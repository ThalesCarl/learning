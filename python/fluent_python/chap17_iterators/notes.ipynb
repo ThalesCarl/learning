{
 "cells": [
  {
   "cell_type": "markdown",
   "metadata": {},
   "source": [
    "# Iterator from sequences"
   ]
  },
  {
   "cell_type": "code",
   "execution_count": 1,
   "metadata": {},
   "outputs": [
    {
     "data": {
      "text/plain": [
       "Sentences('\"The time ha... Walrus said.')"
      ]
     },
     "execution_count": 1,
     "metadata": {},
     "output_type": "execute_result"
    }
   ],
   "source": [
    "import re\n",
    "import reprlib\n",
    "\n",
    "RE_WORD = re.compile(r'\\w+')\n",
    "\n",
    "class Sentence:\n",
    "    def __init__(self, text) -> None:\n",
    "        self.text = text\n",
    "        self.words = RE_WORD.findall(text)\n",
    "\n",
    "    def __getitem__(self, index):\n",
    "        return self.words[index]\n",
    "    \n",
    "    def __len__(self):\n",
    "        return len(self.words)\n",
    "    \n",
    "    def __repr__(self) -> str:\n",
    "        return 'Sentences(%s)' % reprlib.repr(self.text)\n",
    "\n",
    "s = Sentence('\"The time has come, \" the Walrus said.')\n",
    "list(s) # ['The', 'time', 'has', 'come', 'the', 'Walrus', 'said']"
   ]
  },
  {
   "cell_type": "markdown",
   "metadata": {},
   "source": [
    "# The `iter()` function\n",
    "\n",
    "Whenever python needs to iterate over an object `x`, it will call the `iter(x)` function. This function does:\n",
    "- verify if the `__iter__` method is implemented. If so, calls it\n",
    "- if `__iter__` is not implemented, but `__getitem__` is, then `iter()` will create an iterator that tries to search by the index, starting with zero\n",
    "- if that fails, a `TypeError` is raised\n",
    "\n",
    "This is a extreme example of duck typing. For goose typing, a iterable is only a subclass of `abc.Iterable` if implements the `__iter__` function. This is ensured by the `__subclasshook__`.\n",
    "\n",
    "## Using iter with a callable\n",
    "\n",
    "We can use the `iter()` function with two arguments: a callable object (e. g. a function) and a sentinel value, used to create a StopIteration exception\n",
    "\n",
    "```python\n",
    "def d6():\n",
    "    return randint(1, 6)\n",
    "d6_iter = iter(d6, 1) # <callable_iterator at 0x69>\n",
    "for roll in d6_iter:\n",
    "    print(rool) # When 1 is returned, the iteration stops\n",
    "# 4, 3, 6, 3\n",
    "```\n",
    "\n",
    "This only works when the callable receives no arguments.\n",
    "\n",
    "# Iterable vs iterators\n",
    "\n",
    "A iterable is any object from which the `iter()` function can create a iterator. Any object that implements `__iter__` is iterable. Any sequence is iterable. Any object that implements `__getitem__` and support the index 0 is iterable.\n",
    "\n",
    "The best way to check if a object is a iterator is calling `ìsinstance(x, abc.Iterator)`\n",
    "\n",
    "Let's implement the `__iter__` function on the Sentence class we've created before. This will use the classic Iterator pattern from the Project patterns. This is not pythonic, but the refactors that we'll do will make it.\n",
    "\n",
    "It's tempting to implement `__next__` in the `Sentence` class, but that would be wrong, because the `Sentence` is iterable but not a iterator. We will create a iterator calling `iter(sentence)`. This is necessary because we might need to create more than one iterator for the same object and that iterators need to have it's own internal state."
   ]
  },
  {
   "cell_type": "code",
   "execution_count": 8,
   "metadata": {},
   "outputs": [
    {
     "name": "stdout",
     "output_type": "stream",
     "text": [
      "The\n",
      "The\n",
      "has\n",
      "has\n"
     ]
    }
   ],
   "source": [
    "import re\n",
    "import reprlib\n",
    "\n",
    "RE_WORD = re.compile(r'\\w+')\n",
    "\n",
    "class Sentence:\n",
    "    def __init__(self, text) -> None:\n",
    "        self.text = text\n",
    "        self.words = RE_WORD.findall(text)\n",
    "\n",
    "    def __repr__(self) -> str:\n",
    "        return 'Sentences(%s)' % reprlib.repr(self.text)\n",
    "\n",
    "    def __iter__(self):\n",
    "        return SentenceIterator(self.words)\n",
    "\n",
    "class SentenceIterator:\n",
    "    def __init__(self, words) -> None:\n",
    "        self.words = words # create a copy?\n",
    "        self.index = 0\n",
    "\n",
    "    def __next__(self):\n",
    "        try:\n",
    "            word = self.words[self.index]\n",
    "        except IndexError:\n",
    "            raise StopIteration\n",
    "        self.index += 1\n",
    "        return word\n",
    "    \n",
    "    # necessary to be considered a abc.Iterator\n",
    "    def __iter__(self):\n",
    "        return self\n",
    "\n",
    "s = Sentence('\"The time has come, \" the Walrus said.')\n",
    "s_iter1 = iter(s)\n",
    "s_iter2 = iter(s)\n",
    "print(next(s_iter1))\n",
    "print(next(s_iter2))\n",
    "s_iter1.words.remove('The')\n",
    "s.words # modified\n",
    "print(next(s_iter1)) # Reference to the same list\n",
    "print(next(s_iter2))\n",
    "\n"
   ]
  },
  {
   "cell_type": "code",
   "execution_count": 13,
   "metadata": {},
   "outputs": [
    {
     "name": "stdout",
     "output_type": "stream",
     "text": [
      "The\n",
      "time\n",
      "has\n",
      "come\n",
      "the\n",
      "Walrus\n",
      "said\n"
     ]
    },
    {
     "ename": "StopIteration",
     "evalue": "",
     "output_type": "error",
     "traceback": [
      "\u001b[1;31m---------------------------------------------------------------------------\u001b[0m",
      "\u001b[1;31mStopIteration\u001b[0m                             Traceback (most recent call last)",
      "Cell \u001b[1;32mIn[13], line 30\u001b[0m\n\u001b[0;32m     28\u001b[0m \u001b[38;5;28mprint\u001b[39m(\u001b[38;5;28mnext\u001b[39m(s_iter1))\n\u001b[0;32m     29\u001b[0m \u001b[38;5;28mprint\u001b[39m(\u001b[38;5;28mnext\u001b[39m(s_iter1))\n\u001b[1;32m---> 30\u001b[0m \u001b[38;5;28mprint\u001b[39m(\u001b[38;5;28;43mnext\u001b[39;49m\u001b[43m(\u001b[49m\u001b[43ms_iter1\u001b[49m\u001b[43m)\u001b[49m)\n",
      "\u001b[1;31mStopIteration\u001b[0m: "
     ]
    }
   ],
   "source": [
    "# pythonic way\n",
    "import re\n",
    "import reprlib\n",
    "\n",
    "RE_WORD = re.compile(r'\\w+')\n",
    "\n",
    "class Sentence:\n",
    "    def __init__(self, text) -> None:\n",
    "        self.text = text\n",
    "        self.words = RE_WORD.findall(text)\n",
    "\n",
    "    def __repr__(self) -> str:\n",
    "        return 'Sentences(%s)' % reprlib.repr(self.text)\n",
    "\n",
    "    def __iter__(self): # a generator function that creates a generator object\n",
    "        for word in self.words:\n",
    "            yield word\n",
    "        # no need to a explicit return call\n",
    "        # it does not generate a StopIteration? It does\n",
    "\n",
    "s = Sentence('\"The time has come, \" the Walrus said.')\n",
    "s_iter1 = iter(s)\n",
    "print(next(s_iter1))\n",
    "print(next(s_iter1))\n",
    "print(next(s_iter1))\n",
    "print(next(s_iter1))\n",
    "print(next(s_iter1))\n",
    "print(next(s_iter1))\n",
    "print(next(s_iter1))\n",
    "print(next(s_iter1)) # Generates a StopIteration\n",
    "\n"
   ]
  },
  {
   "cell_type": "markdown",
   "metadata": {},
   "source": [
    "# Lazy generator expressions\n",
    "\n",
    "In general, we want to delay the need to process a value as much as possible. Our `Sentence` class is not lazy yet, because it stores all the text inside the `words` list. We can make it more lazy using the `re.finditer` instead of `re.findall`"
   ]
  },
  {
   "cell_type": "code",
   "execution_count": null,
   "metadata": {},
   "outputs": [],
   "source": [
    "# Lazy Sentence class\n",
    "\n",
    "import re\n",
    "import reprlib\n",
    "\n",
    "RE_WORD = re.compile(r'\\w+')\n",
    "\n",
    "class Sentence:\n",
    "    def __init__(self, text) -> None:\n",
    "        self.text = text\n",
    "\n",
    "    def __iter__(self):\n",
    "        for match in RE_WORD.finditer(self.text):\n",
    "            yield match.group()\n",
    "\n",
    "    # A more concise implementation could be done with a generator expression\n",
    "    def __iter__(self):\n",
    "        return (match.group() for match in RE_WORD.finditer(self.text))\n",
    "    \n",
    "            "
   ]
  },
  {
   "cell_type": "code",
   "execution_count": null,
   "metadata": {},
   "outputs": [],
   "source": [
    "# a practical example\n",
    "\n",
    "class ArithmeticProgression:\n",
    "    def __init__(self, begin, step, end=None) -> None:\n",
    "        self.begin = begin\n",
    "        self.step = step\n",
    "        self.end = end # None -> infinite series\n",
    "\n",
    "    def __iter__(self):\n",
    "        result_type = type(self.begin + self.step)\n",
    "        result = result_type(self.begin)\n",
    "        forever = self.end is None\n",
    "        index = 0\n",
    "        while forever or result < self.end:\n",
    "            yield result\n",
    "            index += 1\n",
    "            result = self.begin + self.step * index\n",
    "\n",
    "# this could also be done with a genetor function\n",
    "def aritprog_gen(begin, step, end=None):\n",
    "    result = type(begin + step)(begin)\n",
    "    forever = end is None\n",
    "    index = 0\n",
    "    while forever or result < end:\n",
    "        yield result\n",
    "        index += 1\n",
    "        result = begin + step * index\n",
    "\n",
    "# using the itertools module the function above could be\n",
    "def aritprog_gen(begin, step, end=None):\n",
    "    import itertools\n",
    "    first = type(begin + step)(begin)\n",
    "    ap_gen = itertools.count(first, step)\n",
    "    if end is None:\n",
    "        return ap_gen\n",
    "    return itertools.takewhile(lambda n: n < end, ap_gen)\n",
    "\n",
    "# There are a lot of iterator functions defined in the standard lib, take a look at the book for more examples\n",
    "\n",
    "# The rest of the chapter, I will not annotate.\n",
    "\n",
    "\n",
    "    "
   ]
  },
  {
   "cell_type": "markdown",
   "metadata": {},
   "source": []
  },
  {
   "cell_type": "markdown",
   "metadata": {},
   "source": []
  }
 ],
 "metadata": {
  "kernelspec": {
   "display_name": "Python 3",
   "language": "python",
   "name": "python3"
  },
  "language_info": {
   "codemirror_mode": {
    "name": "ipython",
    "version": 3
   },
   "file_extension": ".py",
   "mimetype": "text/x-python",
   "name": "python",
   "nbconvert_exporter": "python",
   "pygments_lexer": "ipython3",
   "version": "3.11.8"
  }
 },
 "nbformat": 4,
 "nbformat_minor": 2
}
