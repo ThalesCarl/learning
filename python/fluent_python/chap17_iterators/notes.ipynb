{
 "cells": [
  {
   "cell_type": "markdown",
   "metadata": {},
   "source": [
    "# Iterator from sequences"
   ]
  },
  {
   "cell_type": "code",
   "execution_count": 1,
   "metadata": {},
   "outputs": [
    {
     "data": {
      "text/plain": [
       "Sentences('\"The time ha... Walrus said.')"
      ]
     },
     "execution_count": 1,
     "metadata": {},
     "output_type": "execute_result"
    }
   ],
   "source": [
    "import re\n",
    "import reprlib\n",
    "\n",
    "RE_WORD = re.compile(r'\\w+')\n",
    "\n",
    "class Sentence:\n",
    "    def __init__(self, text) -> None:\n",
    "        self.text = text\n",
    "        self.words = RE_WORD.findall(text)\n",
    "\n",
    "    def __getitem__(self, index):\n",
    "        return self.words[index]\n",
    "    \n",
    "    def __len__(self):\n",
    "        return len(self.words)\n",
    "    \n",
    "    def __repr__(self) -> str:\n",
    "        return 'Sentences(%s)' % reprlib.repr(self.text)\n",
    "\n",
    "s = Sentence('\"The time has come, \" the Walrus said.')\n",
    "list(s) # ['The', 'time', 'has', 'come', 'the', 'Walrus', 'said']"
   ]
  },
  {
   "cell_type": "markdown",
   "metadata": {},
   "source": [
    "# The `iter()` function\n",
    "\n",
    "Whenever python needs to iterate over an object `x`, it will call the `iter(x)` function. This function does:\n",
    "- verify if the `__iter__` method is implemented. If so, calls it\n",
    "- if `__iter__` is not implemented, but `__getitem__` is, then `iter()` will create an iterator that tries to search by the index, starting with zero\n",
    "- if that fails, a `TypeError` is raised\n",
    "\n",
    "This is a extreme example of duck typing. For goose typing, a iterable is only a subclass of `abc.Iterable` if implements the `__iter__` function. This is ensured by the `__subclasshook__`.\n",
    "\n",
    "## Using iter with a callable\n",
    "\n",
    "We can use the `iter()` function with two arguments: a callable object (e. g. a function) and a sentinel value, used to create a StopIteration exception\n",
    "\n",
    "```python\n",
    "def d6():\n",
    "    return randint(1, 6)\n",
    "d6_iter = iter(d6, 1) # <callable_iterator at 0x69>\n",
    "for roll in d6_iter:\n",
    "    print(rool) # When 1 is returned, the iteration stops\n",
    "# 4, 3, 6, 3\n",
    "```\n",
    "\n",
    "This only works when the callable receives no arguments.\n",
    "\n",
    "# Iterable vs iterators\n",
    "\n",
    "A iterable is any object from which the `iter()` function can create a iterator. Any object that implements `__iter__` is iterable. Any sequence is iterable. Any object that implements `__getitem__` and support the index 0 is iterable.\n",
    "\n",
    "The best way to check if a object is a iterator is calling `ìsinstance(x, abc.Iterator)`"
   ]
  }
 ],
 "metadata": {
  "kernelspec": {
   "display_name": "Python 3",
   "language": "python",
   "name": "python3"
  },
  "language_info": {
   "codemirror_mode": {
    "name": "ipython",
    "version": 3
   },
   "file_extension": ".py",
   "mimetype": "text/x-python",
   "name": "python",
   "nbconvert_exporter": "python",
   "pygments_lexer": "ipython3",
   "version": "3.11.8"
  }
 },
 "nbformat": 4,
 "nbformat_minor": 2
}
