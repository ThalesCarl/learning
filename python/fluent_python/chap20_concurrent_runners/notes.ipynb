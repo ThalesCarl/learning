{
 "cells": [
  {
   "cell_type": "markdown",
   "metadata": {},
   "source": [
    "# Concurrent downloads from the web\n",
    "\n",
    "When dealing with a web server, we should always prefer to do things concurrently.\n",
    "\n",
    "Next we will see a implementation of a code that downloads 20 flags in a sequential manner and using a thread pool. The time used to execute the script concurrently dropped about 5 times."
   ]
  },
  {
   "cell_type": "code",
   "execution_count": 2,
   "metadata": {},
   "outputs": [
    {
     "name": "stdout",
     "output_type": "stream",
     "text": [
      "BD BR CD CN DE EG ET FR ID IN IR JP MX NG PH PK RU TR US VN \n",
      "20 downloads in 27.27s\n"
     ]
    }
   ],
   "source": [
    "# Sequential script\n",
    "\n",
    "import time\n",
    "from pathlib import Path\n",
    "from typing import Callable\n",
    "\n",
    "import httpx\n",
    "\n",
    "POP20_CC = ('CN IN US ID BR PK NG BD RU JP '\n",
    "            'MX PH VN ET EG DE IR TR CD FR').split()\n",
    "\n",
    "BASE_URL = 'https://www.fluentpython.com/data/flags'\n",
    "DEST_DIR = Path('downloaded')\n",
    "\n",
    "def save_flag(img: bytes, filename: str) -> None:\n",
    "    (DEST_DIR / filename). write_bytes(img)\n",
    "\n",
    "def get_flag(cc: str) -> bytes:\n",
    "    url = f'{BASE_URL}/{cc}/{cc}.gif'.lower()\n",
    "    resp = httpx.get(url, timeout = 6.1, follow_redirects=True)\n",
    "    resp.raise_for_status()\n",
    "    return resp.content\n",
    "\n",
    "def download_many(cc_list: list[str]) -> int:\n",
    "    for cc in sorted(cc_list):\n",
    "        image = get_flag(cc)\n",
    "        save_flag(image, f'{cc}.gif')\n",
    "        print(cc, end=' ', flush=True)\n",
    "    return len(cc_list)\n",
    "\n",
    "def main(downloader: Callable[[list[str]], int]) -> None:\n",
    "    DEST_DIR.mkdir(exist_ok=True)\n",
    "    t0 = time.perf_counter()\n",
    "    count = downloader(POP20_CC)\n",
    "    elapsed = time.perf_counter() - t0\n",
    "    print(f'\\n{count} downloads in {elapsed:.2f}s')\n",
    "\n",
    "if __name__ == '__main__':\n",
    "    main(download_many)"
   ]
  },
  {
   "cell_type": "code",
   "execution_count": 7,
   "metadata": {},
   "outputs": [
    {
     "name": "stdout",
     "output_type": "stream",
     "text": [
      "DEBD  EG ET ID CDFR  IR JP BR IN CN NG MX PH TR US VN PK RU \n",
      "20 downloads in 4.31s\n"
     ]
    }
   ],
   "source": [
    "# Using thread pool with futures module\n",
    "\n",
    "import time\n",
    "from pathlib import Path\n",
    "from typing import Callable\n",
    "from concurrent import futures\n",
    "import httpx\n",
    "\n",
    "POP20_CC = ('CN IN US ID BR PK NG BD RU JP '\n",
    "            'MX PH VN ET EG DE IR TR CD FR').split()\n",
    "\n",
    "BASE_URL = 'https://www.fluentpython.com/data/flags'\n",
    "DEST_DIR = Path('downloaded')\n",
    "\n",
    "def save_flag(img: bytes, filename: str) -> None:\n",
    "    (DEST_DIR / filename). write_bytes(img)\n",
    "\n",
    "def get_flag(cc: str) -> bytes:\n",
    "    url = f'{BASE_URL}/{cc}/{cc}.gif'.lower()\n",
    "    resp = httpx.get(url, timeout = 6.1, follow_redirects=True)\n",
    "    resp.raise_for_status()\n",
    "    return resp.content\n",
    "\n",
    "def download_one(cc: str):\n",
    "    image = get_flag(cc)\n",
    "    save_flag(image, f'{cc}.gif')\n",
    "    print(cc, end=' ', flush=True)\n",
    "    return cc\n",
    "\n",
    "def download_many(cc_list: list[str]) -> int:\n",
    "    with futures.ThreadPoolExecutor() as executer:\n",
    "        res = executer.map(download_one, sorted(cc_list))\n",
    "    return len(list(res))\n",
    "\n",
    "def main(downloader: Callable[[list[str]], int]) -> None:\n",
    "    DEST_DIR.mkdir(exist_ok=True)\n",
    "    t0 = time.perf_counter()\n",
    "    count = downloader(POP20_CC)\n",
    "    elapsed = time.perf_counter() - t0\n",
    "    print(f'\\n{count} downloads in {elapsed:.2f}s')\n",
    "\n",
    "if __name__ == '__main__':\n",
    "    main(download_many)"
   ]
  },
  {
   "cell_type": "markdown",
   "metadata": {},
   "source": [
    "# Where are the futures?\n",
    "\n",
    "The `Future` object represents a delayed processing that may be or not completed. They are design to be placed in queues, then verify if they are completed and recover the results (or exceptions) when they are available.\n",
    "\n",
    "A `Future` object is never created by the user, it is created by the framework: `concurrent.futures` for threading or `asyncio` for coroutines.\n",
    "\n",
    "The application code should not modify the `Future` state. The framework will change it when the processing is done.\n",
    "\n",
    "Both frameworks have a `.done()` function that returns a boolean of the future execution status and a `.add_done_callback()` that executes some code when the future's processing is done.\n",
    "\n",
    "There's also the `.result()` function that will return the result of the callable or a exception when the execution is done. However, calling this function in those frameworks led to different outputs. For the `concurrent.futures.Future`, a call to `.result()` will block the thread and wait until the result is done. A timeout might be provided that will generated a `TimeoutError` if the callable did not return. For the `asyncio`, the book did not say what happens. \n",
    "\n",
    "We can refactor the example above to use the `as_completed()` function that will receive a iterable of futures and will return a iterator that yield `Future` objects when finished the execution\n",
    "\n",
    "```python\n",
    "def download_many(cc_list: list[str]) -> int:\n",
    "    with futures.ThreadPoolExecutor(max_workers=3) as executor:\n",
    "        to_do: list[futures.Future]\n",
    "        for cc in sorted(cc_list):\n",
    "            future = executor.submit(download_one, cc)\n",
    "            to_do.append(future)\n",
    "            print(f'Scheduled for {cc}: {future}')\n",
    "        \n",
    "        for count, future in enumerate(futures.as_completed(to_do))\n",
    "            res: str = future.result()\n",
    "            print(f'{future} result: {res!r}')\n",
    "    return count\n",
    "```\n",
    "\n",
    "Question: what's the difference of using `ThreadPoolExecutor.map()` and `futures.as_completed()`?\n",
    "\n",
    "The difference to use a `futures.ThreadPoolExecutor` and the `threading` lib is that the former will process all the data and present it in the order that was request, while the latter will print the info as soon as it is available.\n",
    "\n"
   ]
  },
  {
   "cell_type": "code",
   "execution_count": 9,
   "metadata": {},
   "outputs": [
    {
     "name": "stdout",
     "output_type": "stream",
     "text": [
      "[21:36:46] Script starting\n",
      "[21:36:46] loiter(0): doing nothing for 0s\n",
      "[21:36:46] loiter(0): done\n",
      "[21:36:46] \tloiter(1): doing nothing for 1s\n",
      "[21:36:46] \t\tloiter(2): doing nothing for 2s\n",
      "[21:36:46] \t\t\tloiter(3): doing nothing for 3s\n",
      "[21:36:46] results:  <generator object Executor.map.<locals>.result_iterator at 0x00000214EB922D40>\n",
      "[21:36:46] Waiting for individual results: \n",
      "[21:36:46] result 0: 0\n",
      "[21:36:49] \tloiter(1): done\n",
      "[21:36:49] \t\t\t\tloiter(4): doing nothing for 4s\n",
      "[21:36:49] result 1: 10\n",
      "[21:36:52] \t\tloiter(2): done\n",
      "[21:36:52] result 2: 20\n",
      "[21:36:55] \t\t\tloiter(3): done\n",
      "[21:36:55] result 3: 30\n",
      "[21:37:01] \t\t\t\tloiter(4): done\n",
      "[21:37:01] result 4: 40\n"
     ]
    }
   ],
   "source": [
    "# Experimenting with Executor.map\n",
    "\n",
    "from time import sleep, strftime\n",
    "from concurrent import futures\n",
    "\n",
    "def display(*args):\n",
    "    print(strftime('[%H:%M:%S]'), end=' ')\n",
    "    print(*args)\n",
    "\n",
    "def loiter(n):\n",
    "    msg = '{}loiter({}): doing nothing for {}s'\n",
    "    display(msg.format('\\t'*n, n, n))\n",
    "    sleep(n)\n",
    "    msg = '{}loiter({}): done'\n",
    "    display(msg.format('\\t'*n, n, n))\n",
    "    return n * 10\n",
    "\n",
    "def main():\n",
    "    display('Script starting')\n",
    "    executor = futures.ThreadPoolExecutor(max_workers=3)\n",
    "    results = executor.map(loiter, range(5))\n",
    "    display('results: ', results)\n",
    "    display('Waiting for individual results: ')\n",
    "    for i, result in enumerate(results):\n",
    "        display(f'result {i}: {result}')\n",
    "\n",
    "main()\n"
   ]
  },
  {
   "cell_type": "markdown",
   "metadata": {},
   "source": [
    "# Improving the flag downloader"
   ]
  },
  {
   "cell_type": "code",
   "execution_count": 21,
   "metadata": {},
   "outputs": [
    {
     "name": "stderr",
     "output_type": "stream",
     "text": [
      "100%|██████████| 20/20 [00:12<00:00,  1.63it/s]\n"
     ]
    }
   ],
   "source": [
    "# Sequential code snippets\n",
    "from enum import Enum\n",
    "from collections import Counter\n",
    "import tqdm\n",
    "from http import HTTPStatus\n",
    "import httpx\n",
    "\n",
    "DownloadStatus = Enum('DownloadStatus', 'OK NOT_FOUND ERROR')\n",
    "\n",
    "def get_flag(base_url: str, cc: str) -> bytes:\n",
    "    url = f'{base_url}/{cc}/{cc}.gif'.lower()\n",
    "    resp = httpx.get(url, timeout=3.1, follow_redirects=True)\n",
    "    resp.raise_for_status()  # <3>\n",
    "    return resp.content\n",
    "\n",
    "def download_one(cc: str, base_url: str, verbose: bool = False) -> DownloadStatus:\n",
    "    try:\n",
    "        image = get_flag(base_url, cc)\n",
    "    except httpx.HTTPStatusError as exc:  # <4>\n",
    "        res = exc.response\n",
    "        if res.status_code == HTTPStatus.NOT_FOUND:\n",
    "            status = DownloadStatus.NOT_FOUND  # <5>\n",
    "            msg = f'not found: {res.url}'\n",
    "        else:\n",
    "            raise  # <6>\n",
    "    else:\n",
    "        save_flag(image, f'{cc}.gif')\n",
    "        status = DownloadStatus.OK\n",
    "        msg = 'OK'\n",
    "\n",
    "    if verbose:  # <7>\n",
    "        print(cc, msg)\n",
    "\n",
    "    return status\n",
    "\n",
    "def download_many(cc_list: list[str],\n",
    "                  base_url: str,\n",
    "                  verbose: bool) -> Counter[DownloadStatus]:\n",
    "    counter: Counter[DownloadStatus] = Counter()\n",
    "    cc_iter = sorted(cc_list)\n",
    "    if not verbose:\n",
    "        cc_iter = tqdm.tqdm(cc_iter)\n",
    "    for cc in cc_iter:\n",
    "        try:\n",
    "            status = download_one(cc, base_url, verbose)\n",
    "        except httpx.HTTPStatusError as exc:\n",
    "            error_msg = 'HTTP error {resp.status_code} - {resp.reason_phrase}'\n",
    "            error_msg = error_msg.format(resp = exc.response)\n",
    "        except httpx.RequestError as exc:\n",
    "            error_msg = f'{exc} {type(exc)}'.strip()\n",
    "        except KeyboardInterrupt:\n",
    "            break\n",
    "        else:\n",
    "            error_msg = ''\n",
    "\n",
    "        if error_msg:\n",
    "            status = DownloadStatus.ERROR\n",
    "        counter[status] += 1\n",
    "        if verbose and error_msg:\n",
    "            print(f'{cc} error: {error_msg}')\n",
    "\n",
    "download_many(POP20_CC, BASE_URL, False)"
   ]
  },
  {
   "cell_type": "code",
   "execution_count": 23,
   "metadata": {},
   "outputs": [
    {
     "name": "stderr",
     "output_type": "stream",
     "text": [
      "100%|██████████| 20/20 [00:03<00:00,  6.37it/s]\n"
     ]
    },
    {
     "data": {
      "text/plain": [
       "Counter({<DownloadStatus.OK: 1>: 20})"
      ]
     },
     "execution_count": 23,
     "metadata": {},
     "output_type": "execute_result"
    }
   ],
   "source": [
    "# Using futures.as_completed\n",
    "\n",
    "from collections import Counter\n",
    "from concurrent.futures import ThreadPoolExecutor, as_completed\n",
    "\n",
    "import httpx\n",
    "import tqdm\n",
    "\n",
    "DEFAULT_CONCUR_REQ = 30 \n",
    "MAX_CONCUR_REQ = 1000\n",
    "\n",
    "def download_many(cc_list: list[str],\n",
    "                  base_url: str,\n",
    "                  verbose: bool,\n",
    "                  concur_req: int) -> Counter[DownloadStatus]:\n",
    "    counter: Counter[DownloadStatus] = Counter()\n",
    "    with ThreadPoolExecutor(max_workers=concur_req) as executor:\n",
    "        to_do_map = {}\n",
    "        for cc in sorted(cc_list):\n",
    "            future = executor.submit(download_one, cc, base_url, verbose)\n",
    "            to_do_map[future] = cc # future is hashable?\n",
    "        done_iter = as_completed(to_do_map)\n",
    "        if not verbose:\n",
    "            done_iter = tqdm.tqdm(done_iter, total=len(cc_list))\n",
    "        for future in done_iter:\n",
    "            try:\n",
    "                status = future.result()\n",
    "            except httpx.HTTPStatusError as exc:\n",
    "                error_msg = 'HTTP error {resp.status_code} - {resp.reason_phrase}'\n",
    "                error_msg = error_msg.format(resp=exc.response)\n",
    "            except httpx.RequestError as exc:\n",
    "                error_msg = f'{exc} {type(exc)}'.strip()\n",
    "            except KeyboardInterrupt:\n",
    "                break\n",
    "            else:\n",
    "                error_msg = ''\n",
    "\n",
    "            if error_msg:\n",
    "                status = DownloadStatus.ERROR\n",
    "            counter[status] += 1\n",
    "            if verbose and error_msg:\n",
    "                cc = to_do_map[future]\n",
    "                print(f'{cc} error: {error_msg}')\n",
    "    return counter\n",
    "\n",
    "download_many(POP20_CC, BASE_URL, False, DEFAULT_CONCUR_REQ)\n",
    "\n"
   ]
  }
 ],
 "metadata": {
  "kernelspec": {
   "display_name": "Python 3",
   "language": "python",
   "name": "python3"
  },
  "language_info": {
   "codemirror_mode": {
    "name": "ipython",
    "version": 3
   },
   "file_extension": ".py",
   "mimetype": "text/x-python",
   "name": "python",
   "nbconvert_exporter": "python",
   "pygments_lexer": "ipython3",
   "version": "undefined.undefined.undefined"
  }
 },
 "nbformat": 4,
 "nbformat_minor": 2
}
